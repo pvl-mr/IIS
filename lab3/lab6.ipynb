{
 "cells": [
  {
   "cell_type": "code",
   "execution_count": 38,
   "id": "5755183a",
   "metadata": {},
   "outputs": [],
   "source": [
    "import pandas as pd\n",
    "import numpy as np\n",
    "from sklearn.neural_network import MLPClassifier\n",
    "from sklearn.model_selection import train_test_split\n",
    "from sklearn.compose import make_column_transformer\n",
    "from sklearn.preprocessing import OneHotEncoder\n",
    "from sklearn.pipeline import make_pipeline\n",
    "from sklearn.metrics import accuracy_score "
   ]
  },
  {
   "cell_type": "code",
   "execution_count": 41,
   "id": "fe3a61ea",
   "metadata": {},
   "outputs": [
    {
     "data": {
      "text/plain": [
       "0.6065573770491803"
      ]
     },
     "execution_count": 41,
     "metadata": {},
     "output_type": "execute_result"
    }
   ],
   "source": [
    "data = pd.read_csv(\"ds_salaries.csv\")\n",
    "y = data['company_size']\n",
    "data = data.drop(['company_size'], axis=1)\n",
    "X_train, X_test, y_train, y_test = train_test_split(data, y, test_size=.1, random_state=42)\n",
    "cols_to_lowercase = ['experience_level', 'employment_type', 'job_title', 'salary_currency', 'employee_residence', 'company_location']\n",
    "for col in cols_to_lowercase:\n",
    "    data[col] = data[col].str.lower()\n",
    "column_trans = make_column_transformer(\n",
    "    (OneHotEncoder(handle_unknown='ignore'), cols_to_lowercase),\n",
    "    remainder='passthrough'\n",
    ")\n",
    "mlp = MLPClassifier(random_state=321,\n",
    "                    solver=\"sgd\", \n",
    "                    activation=\"tanh\", \n",
    "                    alpha=0.01, \n",
    "                    hidden_layer_sizes=(2, ), \n",
    "                    max_iter=2000, \n",
    "                    tol=0.00000001)\n",
    "pipe = make_pipeline(column_trans, mlp)\n",
    "pipe.fit(X_train, y_train)\n",
    "predictions = pipe.predict(X_test) \n",
    "score = accuracy_score(y_test, predictions)\n",
    "score"
   ]
  },
  {
   "cell_type": "code",
   "execution_count": 49,
   "id": "d9069d8b",
   "metadata": {},
   "outputs": [
    {
     "name": "stderr",
     "output_type": "stream",
     "text": [
      "C:\\Users\\pavlo\\AppData\\Local\\Programs\\Python\\Python310\\lib\\site-packages\\sklearn\\neural_network\\_multilayer_perceptron.py:702: ConvergenceWarning: Stochastic Optimizer: Maximum iterations (2000) reached and the optimization hasn't converged yet.\n",
      "  warnings.warn(\n"
     ]
    },
    {
     "data": {
      "text/plain": [
       "0.6065573770491803"
      ]
     },
     "execution_count": 49,
     "metadata": {},
     "output_type": "execute_result"
    }
   ],
   "source": [
    "data = pd.read_csv(\"ds_salaries.csv\")\n",
    "y = data['company_size']\n",
    "data = data.drop(['company_size'], axis=1)\n",
    "X_train, X_test, y_train, y_test = train_test_split(data, y, test_size=.1, random_state=42)\n",
    "cols_to_lowercase = ['experience_level', 'employment_type', 'job_title', 'salary_currency', 'employee_residence', 'company_location']\n",
    "for col in cols_to_lowercase:\n",
    "    data[col] = data[col].str.lower()\n",
    "column_trans = make_column_transformer(\n",
    "    (OneHotEncoder(handle_unknown='ignore'), cols_to_lowercase),\n",
    "    remainder='passthrough'\n",
    ")\n",
    "mlp = MLPClassifier(random_state=321,\n",
    "                    solver=\"sgd\", \n",
    "                    activation=\"tanh\", \n",
    "                    alpha=1, \n",
    "                    hidden_layer_sizes=(2, ), \n",
    "                    max_iter=2000, \n",
    "                    tol=0.00000001)\n",
    "pipe = make_pipeline(column_trans, mlp)\n",
    "pipe.fit(X_train, y_train)\n",
    "predictions = pipe.predict(X_test) \n",
    "score = accuracy_score(y_test, predictions)\n",
    "score"
   ]
  },
  {
   "cell_type": "code",
   "execution_count": 59,
   "id": "aec861cd",
   "metadata": {},
   "outputs": [
    {
     "data": {
      "text/plain": [
       "0.6065573770491803"
      ]
     },
     "execution_count": 59,
     "metadata": {},
     "output_type": "execute_result"
    }
   ],
   "source": [
    "data = pd.read_csv(\"ds_salaries.csv\")\n",
    "y = data['company_size']\n",
    "data = data.drop(['company_size'], axis=1)\n",
    "X_train, X_test, y_train, y_test = train_test_split(data, y, test_size=.1, random_state=42)\n",
    "cols_to_lowercase = ['experience_level', 'employment_type', 'job_title', 'salary_currency', 'employee_residence', 'company_location']\n",
    "for col in cols_to_lowercase:\n",
    "    data[col] = data[col].str.lower()\n",
    "column_trans = make_column_transformer(\n",
    "    (OneHotEncoder(handle_unknown='ignore'), cols_to_lowercase),\n",
    "    remainder='passthrough'\n",
    ")\n",
    "mlp = MLPClassifier(random_state=321,\n",
    "                    solver=\"sgd\", \n",
    "                    activation=\"tanh\", \n",
    "                    alpha=0.001, \n",
    "                    hidden_layer_sizes=(2, ), \n",
    "                    max_iter=1000, \n",
    "                    tol=0.0001)\n",
    "pipe = make_pipeline(column_trans, mlp)\n",
    "pipe.fit(X_train, y_train)\n",
    "predictions = pipe.predict(X_test) \n",
    "score = accuracy_score(y_test, predictions)\n",
    "score"
   ]
  },
  {
   "cell_type": "code",
   "execution_count": 57,
   "id": "2c46f541",
   "metadata": {},
   "outputs": [
    {
     "data": {
      "text/plain": [
       "0.6229508196721312"
      ]
     },
     "execution_count": 57,
     "metadata": {},
     "output_type": "execute_result"
    }
   ],
   "source": [
    "data = pd.read_csv(\"ds_salaries.csv\")\n",
    "y = data['company_size']\n",
    "data = data.drop(['company_size'], axis=1)\n",
    "X_train, X_test, y_train, y_test = train_test_split(data, y, test_size=.1, random_state=42)\n",
    "cols_to_lowercase = ['experience_level', 'employment_type', 'job_title', 'salary_currency', 'employee_residence', 'company_location']\n",
    "for col in cols_to_lowercase:\n",
    "    data[col] = data[col].str.lower()\n",
    "column_trans = make_column_transformer(\n",
    "    (OneHotEncoder(handle_unknown='ignore'), cols_to_lowercase),\n",
    "    remainder='passthrough'\n",
    ")\n",
    "mlp = MLPClassifier(random_state=321,\n",
    "                    solver=\"sgd\", \n",
    "                    activation=\"tanh\", \n",
    "                    alpha=0.001, \n",
    "                    hidden_layer_sizes=(4, ), \n",
    "                    max_iter=1000, \n",
    "                    tol=0.0001)\n",
    "pipe = make_pipeline(column_trans, mlp)\n",
    "pipe.fit(X_train, y_train)\n",
    "predictions = pipe.predict(X_test) \n",
    "score = accuracy_score(y_test, predictions)\n",
    "score"
   ]
  },
  {
   "cell_type": "code",
   "execution_count": 69,
   "id": "0b07e21a",
   "metadata": {
    "scrolled": true
   },
   "outputs": [
    {
     "name": "stderr",
     "output_type": "stream",
     "text": [
      "C:\\Users\\pavlo\\AppData\\Local\\Programs\\Python\\Python310\\lib\\site-packages\\sklearn\\neural_network\\_multilayer_perceptron.py:702: ConvergenceWarning: Stochastic Optimizer: Maximum iterations (1000) reached and the optimization hasn't converged yet.\n",
      "  warnings.warn(\n"
     ]
    },
    {
     "data": {
      "text/plain": [
       "0.6229508196721312"
      ]
     },
     "execution_count": 69,
     "metadata": {},
     "output_type": "execute_result"
    }
   ],
   "source": [
    "data = pd.read_csv(\"ds_salaries.csv\")\n",
    "y = data['company_size']\n",
    "data = data.drop(['company_size'], axis=1)\n",
    "X_train, X_test, y_train, y_test = train_test_split(data, y, test_size=.1, random_state=42)\n",
    "cols_to_lowercase = ['experience_level', 'employment_type', 'job_title', 'salary_currency', 'employee_residence', 'company_location']\n",
    "for col in cols_to_lowercase:\n",
    "    data[col] = data[col].str.lower()\n",
    "column_trans = make_column_transformer(\n",
    "    (OneHotEncoder(handle_unknown='ignore'), cols_to_lowercase),\n",
    "    remainder='passthrough'\n",
    ")\n",
    "mlp = MLPClassifier(random_state=321,\n",
    "                    solver=\"sgd\", \n",
    "                    activation=\"tanh\", \n",
    "                    alpha=0.001, \n",
    "                    hidden_layer_sizes=(7, 5), \n",
    "                    max_iter=1000, \n",
    "                    tol=0.000001)\n",
    "pipe = make_pipeline(column_trans, mlp)\n",
    "pipe.fit(X_train, y_train)\n",
    "predictions = pipe.predict(X_test) \n",
    "score = accuracy_score(y_test, predictions)\n",
    "score"
   ]
  },
  {
   "cell_type": "code",
   "execution_count": 66,
   "id": "28e22496",
   "metadata": {},
   "outputs": [
    {
     "data": {
      "text/html": [
       "<style>#sk-container-id-3 {color: black;background-color: white;}#sk-container-id-3 pre{padding: 0;}#sk-container-id-3 div.sk-toggleable {background-color: white;}#sk-container-id-3 label.sk-toggleable__label {cursor: pointer;display: block;width: 100%;margin-bottom: 0;padding: 0.3em;box-sizing: border-box;text-align: center;}#sk-container-id-3 label.sk-toggleable__label-arrow:before {content: \"▸\";float: left;margin-right: 0.25em;color: #696969;}#sk-container-id-3 label.sk-toggleable__label-arrow:hover:before {color: black;}#sk-container-id-3 div.sk-estimator:hover label.sk-toggleable__label-arrow:before {color: black;}#sk-container-id-3 div.sk-toggleable__content {max-height: 0;max-width: 0;overflow: hidden;text-align: left;background-color: #f0f8ff;}#sk-container-id-3 div.sk-toggleable__content pre {margin: 0.2em;color: black;border-radius: 0.25em;background-color: #f0f8ff;}#sk-container-id-3 input.sk-toggleable__control:checked~div.sk-toggleable__content {max-height: 200px;max-width: 100%;overflow: auto;}#sk-container-id-3 input.sk-toggleable__control:checked~label.sk-toggleable__label-arrow:before {content: \"▾\";}#sk-container-id-3 div.sk-estimator input.sk-toggleable__control:checked~label.sk-toggleable__label {background-color: #d4ebff;}#sk-container-id-3 div.sk-label input.sk-toggleable__control:checked~label.sk-toggleable__label {background-color: #d4ebff;}#sk-container-id-3 input.sk-hidden--visually {border: 0;clip: rect(1px 1px 1px 1px);clip: rect(1px, 1px, 1px, 1px);height: 1px;margin: -1px;overflow: hidden;padding: 0;position: absolute;width: 1px;}#sk-container-id-3 div.sk-estimator {font-family: monospace;background-color: #f0f8ff;border: 1px dotted black;border-radius: 0.25em;box-sizing: border-box;margin-bottom: 0.5em;}#sk-container-id-3 div.sk-estimator:hover {background-color: #d4ebff;}#sk-container-id-3 div.sk-parallel-item::after {content: \"\";width: 100%;border-bottom: 1px solid gray;flex-grow: 1;}#sk-container-id-3 div.sk-label:hover label.sk-toggleable__label {background-color: #d4ebff;}#sk-container-id-3 div.sk-serial::before {content: \"\";position: absolute;border-left: 1px solid gray;box-sizing: border-box;top: 0;bottom: 0;left: 50%;z-index: 0;}#sk-container-id-3 div.sk-serial {display: flex;flex-direction: column;align-items: center;background-color: white;padding-right: 0.2em;padding-left: 0.2em;position: relative;}#sk-container-id-3 div.sk-item {position: relative;z-index: 1;}#sk-container-id-3 div.sk-parallel {display: flex;align-items: stretch;justify-content: center;background-color: white;position: relative;}#sk-container-id-3 div.sk-item::before, #sk-container-id-3 div.sk-parallel-item::before {content: \"\";position: absolute;border-left: 1px solid gray;box-sizing: border-box;top: 0;bottom: 0;left: 50%;z-index: -1;}#sk-container-id-3 div.sk-parallel-item {display: flex;flex-direction: column;z-index: 1;position: relative;background-color: white;}#sk-container-id-3 div.sk-parallel-item:first-child::after {align-self: flex-end;width: 50%;}#sk-container-id-3 div.sk-parallel-item:last-child::after {align-self: flex-start;width: 50%;}#sk-container-id-3 div.sk-parallel-item:only-child::after {width: 0;}#sk-container-id-3 div.sk-dashed-wrapped {border: 1px dashed gray;margin: 0 0.4em 0.5em 0.4em;box-sizing: border-box;padding-bottom: 0.4em;background-color: white;}#sk-container-id-3 div.sk-label label {font-family: monospace;font-weight: bold;display: inline-block;line-height: 1.2em;}#sk-container-id-3 div.sk-label-container {text-align: center;}#sk-container-id-3 div.sk-container {/* jupyter's `normalize.less` sets `[hidden] { display: none; }` but bootstrap.min.css set `[hidden] { display: none !important; }` so we also need the `!important` here to be able to override the default hidden behavior on the sphinx rendered scikit-learn.org. See: https://github.com/scikit-learn/scikit-learn/issues/21755 */display: inline-block !important;position: relative;}#sk-container-id-3 div.sk-text-repr-fallback {display: none;}</style><div id=\"sk-container-id-3\" class=\"sk-top-container\"><div class=\"sk-text-repr-fallback\"><pre>Pipeline(steps=[(&#x27;columntransformer&#x27;,\n",
       "                 ColumnTransformer(remainder=&#x27;passthrough&#x27;,\n",
       "                                   transformers=[(&#x27;onehotencoder&#x27;,\n",
       "                                                  OneHotEncoder(handle_unknown=&#x27;ignore&#x27;),\n",
       "                                                  [&#x27;experience_level&#x27;,\n",
       "                                                   &#x27;employment_type&#x27;,\n",
       "                                                   &#x27;job_title&#x27;,\n",
       "                                                   &#x27;salary_currency&#x27;,\n",
       "                                                   &#x27;employee_residence&#x27;,\n",
       "                                                   &#x27;company_location&#x27;])])),\n",
       "                (&#x27;mlpclassifier&#x27;,\n",
       "                 MLPClassifier(activation=&#x27;tanh&#x27;, alpha=0.001,\n",
       "                               hidden_layer_sizes=(12,), max_iter=1000,\n",
       "                               random_state=321, solver=&#x27;sgd&#x27;, tol=1e-06))])</pre><b>In a Jupyter environment, please rerun this cell to show the HTML representation or trust the notebook. <br />On GitHub, the HTML representation is unable to render, please try loading this page with nbviewer.org.</b></div><div class=\"sk-container\" hidden><div class=\"sk-item sk-dashed-wrapped\"><div class=\"sk-label-container\"><div class=\"sk-label sk-toggleable\"><input class=\"sk-toggleable__control sk-hidden--visually\" id=\"sk-estimator-id-15\" type=\"checkbox\" ><label for=\"sk-estimator-id-15\" class=\"sk-toggleable__label sk-toggleable__label-arrow\">Pipeline</label><div class=\"sk-toggleable__content\"><pre>Pipeline(steps=[(&#x27;columntransformer&#x27;,\n",
       "                 ColumnTransformer(remainder=&#x27;passthrough&#x27;,\n",
       "                                   transformers=[(&#x27;onehotencoder&#x27;,\n",
       "                                                  OneHotEncoder(handle_unknown=&#x27;ignore&#x27;),\n",
       "                                                  [&#x27;experience_level&#x27;,\n",
       "                                                   &#x27;employment_type&#x27;,\n",
       "                                                   &#x27;job_title&#x27;,\n",
       "                                                   &#x27;salary_currency&#x27;,\n",
       "                                                   &#x27;employee_residence&#x27;,\n",
       "                                                   &#x27;company_location&#x27;])])),\n",
       "                (&#x27;mlpclassifier&#x27;,\n",
       "                 MLPClassifier(activation=&#x27;tanh&#x27;, alpha=0.001,\n",
       "                               hidden_layer_sizes=(12,), max_iter=1000,\n",
       "                               random_state=321, solver=&#x27;sgd&#x27;, tol=1e-06))])</pre></div></div></div><div class=\"sk-serial\"><div class=\"sk-item sk-dashed-wrapped\"><div class=\"sk-label-container\"><div class=\"sk-label sk-toggleable\"><input class=\"sk-toggleable__control sk-hidden--visually\" id=\"sk-estimator-id-16\" type=\"checkbox\" ><label for=\"sk-estimator-id-16\" class=\"sk-toggleable__label sk-toggleable__label-arrow\">columntransformer: ColumnTransformer</label><div class=\"sk-toggleable__content\"><pre>ColumnTransformer(remainder=&#x27;passthrough&#x27;,\n",
       "                  transformers=[(&#x27;onehotencoder&#x27;,\n",
       "                                 OneHotEncoder(handle_unknown=&#x27;ignore&#x27;),\n",
       "                                 [&#x27;experience_level&#x27;, &#x27;employment_type&#x27;,\n",
       "                                  &#x27;job_title&#x27;, &#x27;salary_currency&#x27;,\n",
       "                                  &#x27;employee_residence&#x27;, &#x27;company_location&#x27;])])</pre></div></div></div><div class=\"sk-parallel\"><div class=\"sk-parallel-item\"><div class=\"sk-item\"><div class=\"sk-label-container\"><div class=\"sk-label sk-toggleable\"><input class=\"sk-toggleable__control sk-hidden--visually\" id=\"sk-estimator-id-17\" type=\"checkbox\" ><label for=\"sk-estimator-id-17\" class=\"sk-toggleable__label sk-toggleable__label-arrow\">onehotencoder</label><div class=\"sk-toggleable__content\"><pre>[&#x27;experience_level&#x27;, &#x27;employment_type&#x27;, &#x27;job_title&#x27;, &#x27;salary_currency&#x27;, &#x27;employee_residence&#x27;, &#x27;company_location&#x27;]</pre></div></div></div><div class=\"sk-serial\"><div class=\"sk-item\"><div class=\"sk-estimator sk-toggleable\"><input class=\"sk-toggleable__control sk-hidden--visually\" id=\"sk-estimator-id-18\" type=\"checkbox\" ><label for=\"sk-estimator-id-18\" class=\"sk-toggleable__label sk-toggleable__label-arrow\">OneHotEncoder</label><div class=\"sk-toggleable__content\"><pre>OneHotEncoder(handle_unknown=&#x27;ignore&#x27;)</pre></div></div></div></div></div></div><div class=\"sk-parallel-item\"><div class=\"sk-item\"><div class=\"sk-label-container\"><div class=\"sk-label sk-toggleable\"><input class=\"sk-toggleable__control sk-hidden--visually\" id=\"sk-estimator-id-19\" type=\"checkbox\" ><label for=\"sk-estimator-id-19\" class=\"sk-toggleable__label sk-toggleable__label-arrow\">remainder</label><div class=\"sk-toggleable__content\"><pre>[&#x27;db_id&#x27;, &#x27;work_year&#x27;, &#x27;salary&#x27;, &#x27;salary_in_usd&#x27;, &#x27;remote_ratio&#x27;]</pre></div></div></div><div class=\"sk-serial\"><div class=\"sk-item\"><div class=\"sk-estimator sk-toggleable\"><input class=\"sk-toggleable__control sk-hidden--visually\" id=\"sk-estimator-id-20\" type=\"checkbox\" ><label for=\"sk-estimator-id-20\" class=\"sk-toggleable__label sk-toggleable__label-arrow\">passthrough</label><div class=\"sk-toggleable__content\"><pre>passthrough</pre></div></div></div></div></div></div></div></div><div class=\"sk-item\"><div class=\"sk-estimator sk-toggleable\"><input class=\"sk-toggleable__control sk-hidden--visually\" id=\"sk-estimator-id-21\" type=\"checkbox\" ><label for=\"sk-estimator-id-21\" class=\"sk-toggleable__label sk-toggleable__label-arrow\">MLPClassifier</label><div class=\"sk-toggleable__content\"><pre>MLPClassifier(activation=&#x27;tanh&#x27;, alpha=0.001, hidden_layer_sizes=(12,),\n",
       "              max_iter=1000, random_state=321, solver=&#x27;sgd&#x27;, tol=1e-06)</pre></div></div></div></div></div></div></div>"
      ],
      "text/plain": [
       "Pipeline(steps=[('columntransformer',\n",
       "                 ColumnTransformer(remainder='passthrough',\n",
       "                                   transformers=[('onehotencoder',\n",
       "                                                  OneHotEncoder(handle_unknown='ignore'),\n",
       "                                                  ['experience_level',\n",
       "                                                   'employment_type',\n",
       "                                                   'job_title',\n",
       "                                                   'salary_currency',\n",
       "                                                   'employee_residence',\n",
       "                                                   'company_location'])])),\n",
       "                ('mlpclassifier',\n",
       "                 MLPClassifier(activation='tanh', alpha=0.001,\n",
       "                               hidden_layer_sizes=(12,), max_iter=1000,\n",
       "                               random_state=321, solver='sgd', tol=1e-06))])"
      ]
     },
     "execution_count": 66,
     "metadata": {},
     "output_type": "execute_result"
    }
   ],
   "source": [
    "from sklearn.preprocessing import StandardScaler \n",
    "data = pd.read_csv(\"ds_salaries.csv\")\n",
    "y = data['company_size']\n",
    "data = data.drop(['company_size'], axis=1)\n",
    "X_train, X_test, y_train, y_test = train_test_split(data, y, test_size=.1, random_state=42)\n",
    "cols_to_lowercase = ['experience_level', 'employment_type', 'job_title', 'salary_currency', 'employee_residence', 'company_location']\n",
    "for col in cols_to_lowercase:\n",
    "    data[col] = data[col].str.lower()\n",
    "column_trans = make_column_transformer(\n",
    "    (OneHotEncoder(handle_unknown='ignore'), cols_to_lowercase),\n",
    "    remainder='passthrough'\n",
    ")\n",
    "pipe.fit(X_train, y_train)"
   ]
  },
  {
   "cell_type": "code",
   "execution_count": 97,
   "id": "0646a335",
   "metadata": {},
   "outputs": [],
   "source": [
    "def salary_to_cag(salary):\n",
    "    step = 10000\n",
    "    mean_salary_begin = data.salary.mean() - step\n",
    "    mean_salary_end = data.salary.mean() + step\n",
    "    if salary < 50000:\n",
    "        return 'Low'\n",
    "    if salary < 70000:\n",
    "        return 'Lower then mean'\n",
    "    if salary < 150000:\n",
    "        return 'High'\n",
    "    if salary > 125000:\n",
    "        return 'Higher than mean'\n",
    "    return 'Mean'"
   ]
  },
  {
   "cell_type": "code",
   "execution_count": 98,
   "id": "9506bd46",
   "metadata": {},
   "outputs": [],
   "source": [
    "import pandas as pd\n",
    "from sklearn.compose import make_column_transformer\n",
    "from sklearn.preprocessing import OneHotEncoder\n",
    "from sklearn.pipeline import make_pipeline\n",
    "from sklearn.model_selection import cross_val_score\n",
    "from sklearn.tree import DecisionTreeRegressor, DecisionTreeClassifier\n",
    "from sklearn.model_selection import train_test_split\n",
    "from sklearn.linear_model import LinearRegression"
   ]
  },
  {
   "cell_type": "code",
   "execution_count": 99,
   "id": "317bf56b",
   "metadata": {},
   "outputs": [],
   "source": [
    "data = pd.read_csv('ds_salaries.csv', index_col='db_id')\n",
    "df = data.loc[:, ['company_location', 'job_title', 'experience_level', 'salary_in_usd']]\n",
    "X = df.drop('salary_in_usd', axis='columns')\n",
    "y = df.salary_in_usd\n",
    "X_train, X_test, y_train, y_test = train_test_split(X, y, test_size=.1, random_state=42)\n",
    "column_trans = make_column_transformer(\n",
    "    (OneHotEncoder(handle_unknown='ignore'), ['company_location', 'job_title', 'experience_level']),\n",
    "    remainder='passthrough'\n",
    ")\n",
    "clf = DecisionTreeRegressor( random_state=42)\n",
    "pipe = make_pipeline(column_trans, clf)\n",
    "pipe.fit(X_train, y_train)\n",
    "importances = clf.feature_importances_"
   ]
  },
  {
   "cell_type": "code",
   "execution_count": 100,
   "id": "47a5ac30",
   "metadata": {},
   "outputs": [
    {
     "data": {
      "text/plain": [
       "0.5409836065573771"
      ]
     },
     "execution_count": 100,
     "metadata": {},
     "output_type": "execute_result"
    }
   ],
   "source": [
    "from sklearn.metrics import accuracy_score \n",
    "import pandas as pd\n",
    "from sklearn.compose import make_column_transformer\n",
    "from sklearn.preprocessing import OneHotEncoder\n",
    "from sklearn.pipeline import make_pipeline\n",
    "from sklearn.model_selection import cross_val_score\n",
    "from sklearn.tree import DecisionTreeRegressor, DecisionTreeClassifier\n",
    "from sklearn.model_selection import train_test_split\n",
    "from sklearn.linear_model import LinearRegression\n",
    "data = pd.read_csv('ds_salaries.csv', index_col='db_id')\n",
    "data['salary_in_usd'] = data['salary_in_usd'].apply(salary_to_cag)\n",
    "df = data.loc[:, ['company_location', 'job_title', 'experience_level', 'salary_in_usd']]\n",
    "X = df.drop('salary_in_usd', axis='columns')\n",
    "y = df.salary_in_usd\n",
    "X_train, X_test, y_train, y_test = train_test_split(X, y, test_size=.1, random_state=42)\n",
    "column_trans = make_column_transformer(\n",
    "    (OneHotEncoder(handle_unknown='ignore'), ['company_location', 'job_title', 'experience_level']),\n",
    "    remainder='passthrough'\n",
    ")\n",
    "clf = DecisionTreeClassifier(random_state=42)\n",
    "pipe = make_pipeline(column_trans, clf)\n",
    "pipe.fit(X_train, y_train)\n",
    "importances = clf.feature_importances_\n",
    "predictions = pipe.predict(X_test) \n",
    "score = accuracy_score(y_test, predictions)\n",
    "score"
   ]
  },
  {
   "cell_type": "code",
   "execution_count": 107,
   "id": "b90861f0",
   "metadata": {},
   "outputs": [
    {
     "data": {
      "text/plain": [
       "0.5737704918032787"
      ]
     },
     "execution_count": 107,
     "metadata": {},
     "output_type": "execute_result"
    }
   ],
   "source": [
    "data = pd.read_csv('ds_salaries.csv', index_col='db_id')\n",
    "data['salary_in_usd'] = data['salary_in_usd'].apply(salary_to_cag)\n",
    "df = data.loc[:, ['company_location', 'job_title', 'experience_level', 'salary_in_usd']]\n",
    "X = df.drop('salary_in_usd', axis='columns')\n",
    "y = df.salary_in_usd\n",
    "X_train, X_test, y_train, y_test = train_test_split(X, y, test_size=.1, random_state=42)\n",
    "column_trans = make_column_transformer(\n",
    "    (OneHotEncoder(handle_unknown='ignore'), ['company_location', 'job_title', 'experience_level']),\n",
    "    remainder='passthrough'\n",
    ")\n",
    "mlp = MLPClassifier(random_state=321,\n",
    "                    solver=\"sgd\", \n",
    "                    activation=\"tanh\", \n",
    "                    alpha=0.01, \n",
    "                    hidden_layer_sizes=(12, ), \n",
    "                    max_iter=5000, \n",
    "                    tol=0.0001)\n",
    "pipe = make_pipeline(column_trans, mlp)\n",
    "pipe.fit(X_train, y_train)\n",
    "predictions = pipe.predict(X_test) \n",
    "score2 = accuracy_score(y_test, predictions)\n",
    "score2"
   ]
  },
  {
   "cell_type": "code",
   "execution_count": 96,
   "id": "210ca721",
   "metadata": {},
   "outputs": [
    {
     "data": {
      "text/plain": [
       "1"
      ]
     },
     "execution_count": 96,
     "metadata": {},
     "output_type": "execute_result"
    }
   ],
   "source": []
  },
  {
   "cell_type": "code",
   "execution_count": null,
   "id": "dc7b2d31",
   "metadata": {},
   "outputs": [],
   "source": []
  }
 ],
 "metadata": {
  "kernelspec": {
   "display_name": "Python 3 (ipykernel)",
   "language": "python",
   "name": "python3"
  },
  "language_info": {
   "codemirror_mode": {
    "name": "ipython",
    "version": 3
   },
   "file_extension": ".py",
   "mimetype": "text/x-python",
   "name": "python",
   "nbconvert_exporter": "python",
   "pygments_lexer": "ipython3",
   "version": "3.10.5"
  }
 },
 "nbformat": 4,
 "nbformat_minor": 5
}
