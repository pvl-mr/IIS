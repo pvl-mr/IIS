{
 "cells": [
  {
   "cell_type": "code",
   "execution_count": 2,
   "id": "fc9b4ef5",
   "metadata": {},
   "outputs": [],
   "source": [
    "import pandas as pd\n",
    "from sklearn.compose import make_column_transformer\n",
    "from sklearn.preprocessing import OneHotEncoder\n",
    "from sklearn.pipeline import make_pipeline\n",
    "from sklearn.model_selection import cross_val_score\n",
    "from sklearn.tree import DecisionTreeRegressor, DecisionTreeClassifier\n",
    "from sklearn.model_selection import train_test_split\n",
    "from sklearn.linear_model import LinearRegression"
   ]
  },
  {
   "cell_type": "code",
   "execution_count": 316,
   "id": "f23db951",
   "metadata": {},
   "outputs": [],
   "source": [
    "data = pd.read_csv('ds_salaries.csv', index_col='db_id')\n",
    "df = data.loc[:, ['company_location', 'job_title', 'experience_level', 'salary_in_usd']]\n",
    "X = df.drop('salary_in_usd', axis='columns')\n",
    "y = df.salary_in_usd\n",
    "X_train, X_test, y_train, y_test = train_test_split(X, y, test_size=.1, random_state=42)\n",
    "column_trans = make_column_transformer(\n",
    "    (OneHotEncoder(handle_unknown='ignore'), ['company_location', 'job_title', 'experience_level']),\n",
    "    remainder='passthrough'\n",
    ")\n",
    "clf = DecisionTreeRegressor( random_state=42)\n",
    "pipe = make_pipeline(column_trans, clf)\n",
    "pipe.fit(X_train, y_train)\n",
    "importances = clf.feature_importances_"
   ]
  },
  {
   "cell_type": "code",
   "execution_count": 317,
   "id": "2ce56c54",
   "metadata": {
    "scrolled": true
   },
   "outputs": [
    {
     "name": "stdout",
     "output_type": "stream",
     "text": [
      "0.43881678729987644 0.5611832127001235 0\n",
      "(4,)\n"
     ]
    },
    {
     "data": {
      "text/plain": [
       "0.11831437378708998"
      ]
     },
     "execution_count": 317,
     "metadata": {},
     "output_type": "execute_result"
    }
   ],
   "source": [
    "print(sum(importances[:50]), \n",
    "sum(importances[50:100]),\n",
    "sum(importances[100:104]))\n",
    "print(df['experience_level'].unique().shape)\n",
    "column_trans.feature_names_in_\n",
    "abs(cross_val_score(pipe, X_test, y_test, cv=10).mean())\n",
    "model_score = pipe.score(X_test, y_test)\n",
    "model_score"
   ]
  },
  {
   "cell_type": "code",
   "execution_count": 319,
   "id": "9e88adc4",
   "metadata": {},
   "outputs": [
    {
     "data": {
      "text/plain": [
       "0.17095392165251716"
      ]
     },
     "execution_count": 319,
     "metadata": {},
     "output_type": "execute_result"
    }
   ],
   "source": [
    "cross_val_score(pipe, X, y, cv=2).mean()"
   ]
  },
  {
   "cell_type": "code",
   "execution_count": 292,
   "id": "5af5cdf5",
   "metadata": {},
   "outputs": [
    {
     "data": {
      "text/plain": [
       "array(['company_location', 'job_title', 'experience_level'], dtype=object)"
      ]
     },
     "execution_count": 292,
     "metadata": {},
     "output_type": "execute_result"
    }
   ],
   "source": [
    "column_trans.feature_names_in_"
   ]
  },
  {
   "cell_type": "code",
   "execution_count": 3,
   "id": "67009870",
   "metadata": {},
   "outputs": [],
   "source": [
    "def salary_to_cag(salary):\n",
    "    step = 10000\n",
    "    mean_salary_begin = data.salary.mean() - step\n",
    "    mean_salary_end = data.salary.mean() + step\n",
    "    if salary < mean_salary_begin - step*3:\n",
    "        return 'Low'\n",
    "    if salary < mean_salary_begin:\n",
    "        return 'Lower then mean'\n",
    "    if salary < mean_salary_begin + step*3:\n",
    "        return 'High'\n",
    "    if salary > mean_salary_end:\n",
    "        return 'Higher than mean'\n",
    "    return 'Mean'"
   ]
  },
  {
   "cell_type": "code",
   "execution_count": 6,
   "id": "3ae6afbc",
   "metadata": {},
   "outputs": [
    {
     "data": {
      "text/plain": [
       "1.0"
      ]
     },
     "execution_count": 6,
     "metadata": {},
     "output_type": "execute_result"
    }
   ],
   "source": [
    "from sklearn.metrics import accuracy_score \n",
    "data = pd.read_csv('ds_salaries.csv', index_col='db_id')\n",
    "data['salary_in_usd'] = data['salary_in_usd'].apply(salary_to_cag)\n",
    "df = data.loc[:, ['company_location', 'job_title', 'experience_level', 'salary_in_usd']]\n",
    "X = df.drop('salary_in_usd', axis='columns')\n",
    "y = df.salary_in_usd\n",
    "X_train, X_test, y_train, y_test = train_test_split(X, y, test_size=.1, random_state=42)\n",
    "column_trans = make_column_transformer(\n",
    "    (OneHotEncoder(handle_unknown='ignore'), ['company_location', 'job_title', 'experience_level']),\n",
    "    remainder='passthrough'\n",
    ")\n",
    "clf = DecisionTreeClassifier(random_state=42)\n",
    "pipe = make_pipeline(column_trans, clf)\n",
    "pipe.fit(X_train, y_train)\n",
    "importances = clf.feature_importances_\n",
    "predictions = pipe.predict(X_test) \n",
    "score = accuracy_score(y_test, predictions)\n",
    "score"
   ]
  },
  {
   "cell_type": "code",
   "execution_count": 288,
   "id": "4be7484c",
   "metadata": {},
   "outputs": [
    {
     "name": "stdout",
     "output_type": "stream",
     "text": [
      "0.10409763889447826 0.8959023611055217 0\n"
     ]
    }
   ],
   "source": [
    "print(sum(importances[:50]), \n",
    "sum(importances[50:100]),\n",
    "sum(importances[100:104]))"
   ]
  },
  {
   "cell_type": "code",
   "execution_count": 291,
   "id": "4cc3f5d1",
   "metadata": {},
   "outputs": [
    {
     "data": {
      "text/plain": [
       "0.9703513114469342"
      ]
     },
     "execution_count": 291,
     "metadata": {},
     "output_type": "execute_result"
    }
   ],
   "source": [
    "cross_val_score(pipe, X, y, cv=2, scoring='accuracy').mean()"
   ]
  },
  {
   "cell_type": "code",
   "execution_count": 293,
   "id": "ceada9b7",
   "metadata": {},
   "outputs": [
    {
     "data": {
      "text/plain": [
       "1.0"
      ]
     },
     "execution_count": 293,
     "metadata": {},
     "output_type": "execute_result"
    }
   ],
   "source": [
    "pipe.score(X_test, y_test)"
   ]
  },
  {
   "cell_type": "code",
   "execution_count": 310,
   "id": "7f95205f",
   "metadata": {},
   "outputs": [],
   "source": [
    "from sklearn.preprocessing import StandardScaler \n",
    "data = pd.read_csv('ds_salaries.csv', index_col='db_id')\n",
    "df = data.loc[:, ['company_location', 'job_title', 'experience_level', 'salary_in_usd']]\n",
    "X = df.drop('salary_in_usd', axis='columns')\n",
    "y = df.salary_in_usd\n",
    "X_train, X_test, y_train, y_test = train_test_split(X, y, test_size=.1, random_state=42)\n",
    "column_trans = make_column_transformer(\n",
    "   # (StandardScaler(), ['salary_in_usd']),\n",
    "    (OneHotEncoder(handle_unknown='ignore'), ['company_location', 'job_title', 'experience_level']),\n",
    "    remainder='passthrough'\n",
    ")\n",
    "scaler = StandardScaler()\n",
    "y_train = scaler.fit_transform(y_train.values.reshape(-1, 1)) \n",
    "y_test = scaler.fit_transform(y_test.values.reshape(-1, 1)) \n",
    "clf = DecisionTreeRegressor( random_state=42)\n",
    "pipe = make_pipeline(column_trans, clf)\n",
    "pipe.fit(X_train, y_train)\n",
    "importances = clf.feature_importances_"
   ]
  },
  {
   "cell_type": "code",
   "execution_count": 313,
   "id": "49bb5f36",
   "metadata": {},
   "outputs": [
    {
     "name": "stdout",
     "output_type": "stream",
     "text": [
      "0.43886572434183746 0.5611342756581625 0\n"
     ]
    },
    {
     "data": {
      "text/plain": [
       "0.28744971241876693"
      ]
     },
     "execution_count": 313,
     "metadata": {},
     "output_type": "execute_result"
    }
   ],
   "source": [
    "print(sum(importances[:50]), \n",
    "sum(importances[50:100]),\n",
    "sum(importances[100:104]))\n",
    "#print(df['experience_level'].unique().shape)\n",
    "column_trans.feature_names_in_\n",
    "abs(cross_val_score(pipe, X_test, y_test, cv=10).mean())\n",
    "model_score = pipe.score(X_test, y_test)\n",
    "model_score"
   ]
  },
  {
   "cell_type": "code",
   "execution_count": 315,
   "id": "8a128d15",
   "metadata": {},
   "outputs": [
    {
     "data": {
      "text/plain": [
       "0.17095392165251716"
      ]
     },
     "execution_count": 315,
     "metadata": {},
     "output_type": "execute_result"
    }
   ],
   "source": [
    "cross_val_score(pipe, X, y, cv=2).mean()"
   ]
  },
  {
   "cell_type": "code",
   "execution_count": 270,
   "id": "494dff19",
   "metadata": {},
   "outputs": [
    {
     "data": {
      "image/png": "[encoded data removed]",
      "text/plain": [
       "<Figure size 1440x1080 with 1 Axes>"
      ]
     },
     "metadata": {
      "needs_background": "light"
     },
     "output_type": "display_data"
    }
   ],
   "source": [
    "%matplotlib inline\n",
    "import matplotlib.pyplot as plt\n",
    "y.hist(bins=50, figsize=(20,15))\n",
    "plt.show()"
   ]
  },
  {
   "cell_type": "code",
   "execution_count": 259,
   "id": "8aae6d9e",
   "metadata": {},
   "outputs": [
    {
     "data": {
      "text/plain": [
       "0.5409836065573771"
      ]
     },
     "execution_count": 259,
     "metadata": {},
     "output_type": "execute_result"
    }
   ],
   "source": [
    "model_score = pipe.score(X_test, y_test)\n",
    "model_score"
   ]
  },
  {
   "cell_type": "code",
   "execution_count": null,
   "id": "bff92bab",
   "metadata": {},
   "outputs": [],
   "source": []
  }
 ],
 "metadata": {
  "kernelspec": {
   "display_name": "Python 3 (ipykernel)",
   "language": "python",
   "name": "python3"
  },
  "language_info": {
   "codemirror_mode": {
    "name": "ipython",
    "version": 3
   },
   "file_extension": ".py",
   "mimetype": "text/x-python",
   "name": "python",
   "nbconvert_exporter": "python",
   "pygments_lexer": "ipython3",
   "version": "3.10.5"
  }
 },
 "nbformat": 4,
 "nbformat_minor": 5
}
